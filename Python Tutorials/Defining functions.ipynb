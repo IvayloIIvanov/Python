{
 "cells": [
  {
   "cell_type": "markdown",
   "id": "fb18b252",
   "metadata": {},
   "source": [
    "# Defining Functions"
   ]
  },
  {
   "cell_type": "code",
   "execution_count": 1,
   "id": "7570b9ce",
   "metadata": {},
   "outputs": [
    {
     "data": {
      "text/plain": [
       "2308913212272"
      ]
     },
     "execution_count": 1,
     "metadata": {},
     "output_type": "execute_result"
    }
   ],
   "source": [
    "s = 'foobar'                   # Object's unique integer identifier\n",
    "id(s)"
   ]
  },
  {
   "cell_type": "code",
   "execution_count": 2,
   "id": "21841203",
   "metadata": {},
   "outputs": [
    {
     "data": {
      "text/plain": [
       "4"
      ]
     },
     "execution_count": 2,
     "metadata": {},
     "output_type": "execute_result"
    }
   ],
   "source": [
    "a = ['foo', 'bar', 'baz', 'qux']     # Length of an argument passed\n",
    "len(a)"
   ]
  },
  {
   "cell_type": "code",
   "execution_count": 3,
   "id": "aeeb2002",
   "metadata": {},
   "outputs": [
    {
     "data": {
      "text/plain": [
       "False"
      ]
     },
     "execution_count": 3,
     "metadata": {},
     "output_type": "execute_result"
    }
   ],
   "source": [
    "any([False, False, False])        # Takes an iterable as it's argument and returns True if any of\n",
    "                                  # it's arguments are truthy and False otherwise"
   ]
  },
  {
   "cell_type": "code",
   "execution_count": 4,
   "id": "f219b893",
   "metadata": {},
   "outputs": [
    {
     "data": {
      "text/plain": [
       "True"
      ]
     },
     "execution_count": 4,
     "metadata": {},
     "output_type": "execute_result"
    }
   ],
   "source": [
    "any([False, True, False])"
   ]
  },
  {
   "cell_type": "code",
   "execution_count": 5,
   "id": "4eec3cb9",
   "metadata": {},
   "outputs": [
    {
     "data": {
      "text/plain": [
       "False"
      ]
     },
     "execution_count": 5,
     "metadata": {},
     "output_type": "execute_result"
    }
   ],
   "source": [
    "any(['bar' == 'baz', len('foo') == 4, 'qux' in {'foo', 'bar', 'baz'}])"
   ]
  },
  {
   "cell_type": "code",
   "execution_count": 6,
   "id": "224d1c20",
   "metadata": {},
   "outputs": [
    {
     "data": {
      "text/plain": [
       "True"
      ]
     },
     "execution_count": 6,
     "metadata": {},
     "output_type": "execute_result"
    }
   ],
   "source": [
    "any(['bar' == 'baz', len('foo') == 3, 'qux' in {'foo', 'bar', 'baz'}])"
   ]
  },
  {
   "cell_type": "code",
   "execution_count": 8,
   "id": "07c508c6",
   "metadata": {},
   "outputs": [
    {
     "name": "stdout",
     "output_type": "stream",
     "text": [
      "Before calling f()\n",
      "-- Inside f()\n",
      "After calling f()\n"
     ]
    }
   ],
   "source": [
    "def f():                         # Definition of a function\n",
    "    s = '-- Inside f()'\n",
    "    print(s)\n",
    "\n",
    "print('Before calling f()')\n",
    "f()\n",
    "print('After calling f()')"
   ]
  },
  {
   "cell_type": "code",
   "execution_count": 9,
   "id": "78c88c48",
   "metadata": {},
   "outputs": [],
   "source": [
    "def x():    # Function that does nothing\n",
    "    pass\n",
    "\n",
    "x()"
   ]
  },
  {
   "cell_type": "code",
   "execution_count": 18,
   "id": "eb358b7a",
   "metadata": {},
   "outputs": [
    {
     "name": "stdout",
     "output_type": "stream",
     "text": [
      "6 bananas cost $1.74.\n"
     ]
    }
   ],
   "source": [
    "def g(qty, item, price):            # Using a function with positional arguments\n",
    "                                               # (order and number matter)\n",
    "    print(f'{qty} {item} cost ${price:.2f}.')\n",
    "\n",
    "g(6, 'bananas', 1.74)"
   ]
  },
  {
   "cell_type": "code",
   "execution_count": 22,
   "id": "26f7b45e",
   "metadata": {},
   "outputs": [
    {
     "name": "stdout",
     "output_type": "stream",
     "text": [
      "6 bananas cost $1.74.\n"
     ]
    }
   ],
   "source": [
    "g(item = 'bananas', price = 1.74, qty = 6)   # -//- keyword arguments\n",
    "                                          #(number matter and right declaration of the parameters)"
   ]
  },
  {
   "cell_type": "code",
   "execution_count": 32,
   "id": "31a76859",
   "metadata": {},
   "outputs": [
    {
     "name": "stdout",
     "output_type": "stream",
     "text": [
      "4 apples cost $2.24.\n",
      "4 apples cost $1.74.\n",
      "4 bananas cost $1.74.\n",
      "6 bananas cost $1.74.\n",
      "9 kumqwats cost $1.74.\n",
      "6 bananas cost $2.29.\n"
     ]
    }
   ],
   "source": [
    "def h(qty = 6, item = 'bananas', price = 1.74):     # Function with default parameters\n",
    "    print(f'{qty} {item} cost ${price:.2f}.')\n",
    "    \n",
    "h(4, 'apples', 2.24)\n",
    "h(4, 'apples')\n",
    "h(4)\n",
    "h()\n",
    "\n",
    "h(item = 'kumqwats', qty = 9)\n",
    "h(price = 2.29)"
   ]
  },
  {
   "cell_type": "code",
   "execution_count": 46,
   "id": "2b43fb3a",
   "metadata": {},
   "outputs": [
    {
     "data": {
      "text/plain": [
       "[1, 2, 3, 4, 5, '###']"
      ]
     },
     "execution_count": 46,
     "metadata": {},
     "output_type": "execute_result"
    }
   ],
   "source": [
    "def r(my_list=[]):\n",
    "    my_list.append('###')\n",
    "    return my_list\n",
    "\n",
    "r(['foo', 'bar', 'baz'])\n",
    "r([1, 2, 3, 4, 5])"
   ]
  },
  {
   "cell_type": "code",
   "execution_count": 47,
   "id": "840566a3",
   "metadata": {},
   "outputs": [
    {
     "data": {
      "text/plain": [
       "['###']"
      ]
     },
     "execution_count": 47,
     "metadata": {},
     "output_type": "execute_result"
    }
   ],
   "source": [
    "r()"
   ]
  },
  {
   "cell_type": "code",
   "execution_count": 48,
   "id": "24a3b0b9",
   "metadata": {},
   "outputs": [
    {
     "data": {
      "text/plain": [
       "['###', '###']"
      ]
     },
     "execution_count": 48,
     "metadata": {},
     "output_type": "execute_result"
    }
   ],
   "source": [
    "r()"
   ]
  },
  {
   "cell_type": "code",
   "execution_count": 49,
   "id": "30c7965c",
   "metadata": {},
   "outputs": [
    {
     "data": {
      "text/plain": [
       "['###', '###', '###']"
      ]
     },
     "execution_count": 49,
     "metadata": {},
     "output_type": "execute_result"
    }
   ],
   "source": [
    "r()"
   ]
  },
  {
   "cell_type": "code",
   "execution_count": 50,
   "id": "45f620f3",
   "metadata": {},
   "outputs": [],
   "source": [
    "def r(my_list=None):\n",
    "    if my_list is None:\n",
    "        my_list = []\n",
    "    my_list.append('###')\n",
    "    return my_list"
   ]
  },
  {
   "cell_type": "code",
   "execution_count": 51,
   "id": "cd4459cf",
   "metadata": {},
   "outputs": [
    {
     "data": {
      "text/plain": [
       "['###']"
      ]
     },
     "execution_count": 51,
     "metadata": {},
     "output_type": "execute_result"
    }
   ],
   "source": [
    "r()"
   ]
  },
  {
   "cell_type": "code",
   "execution_count": 52,
   "id": "c9611c00",
   "metadata": {},
   "outputs": [
    {
     "data": {
      "text/plain": [
       "['###']"
      ]
     },
     "execution_count": 52,
     "metadata": {},
     "output_type": "execute_result"
    }
   ],
   "source": [
    "r()"
   ]
  },
  {
   "cell_type": "code",
   "execution_count": 53,
   "id": "2320abb2",
   "metadata": {},
   "outputs": [
    {
     "data": {
      "text/plain": [
       "['###']"
      ]
     },
     "execution_count": 53,
     "metadata": {},
     "output_type": "execute_result"
    }
   ],
   "source": [
    "r()\n",
    "r()"
   ]
  },
  {
   "cell_type": "code",
   "execution_count": 55,
   "id": "0e1a6d07",
   "metadata": {},
   "outputs": [
    {
     "data": {
      "text/plain": [
       "['foo', 'bar', 'baz', '###']"
      ]
     },
     "execution_count": 55,
     "metadata": {},
     "output_type": "execute_result"
    }
   ],
   "source": [
    "r(['foo', 'bar', 'baz'])"
   ]
  },
  {
   "cell_type": "code",
   "execution_count": 56,
   "id": "f7d29d3a",
   "metadata": {},
   "outputs": [
    {
     "data": {
      "text/plain": [
       "[1, 2, 3, 4, 5, '###']"
      ]
     },
     "execution_count": 56,
     "metadata": {},
     "output_type": "execute_result"
    }
   ],
   "source": [
    "r([1, 2, 3, 4, 5])"
   ]
  },
  {
   "cell_type": "code",
   "execution_count": null,
   "id": "98739752",
   "metadata": {},
   "outputs": [],
   "source": []
  }
 ],
 "metadata": {
  "kernelspec": {
   "display_name": "Python 3",
   "language": "python",
   "name": "python3"
  },
  "language_info": {
   "codemirror_mode": {
    "name": "ipython",
    "version": 3
   },
   "file_extension": ".py",
   "mimetype": "text/x-python",
   "name": "python",
   "nbconvert_exporter": "python",
   "pygments_lexer": "ipython3",
   "version": "3.8.8"
  }
 },
 "nbformat": 4,
 "nbformat_minor": 5
}
