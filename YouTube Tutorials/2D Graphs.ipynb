{
 "cells": [
  {
   "cell_type": "markdown",
   "id": "94cb12a9",
   "metadata": {},
   "source": [
    "# 2D Graph Plotting"
   ]
  },
  {
   "cell_type": "code",
   "execution_count": 2,
   "id": "d7feb75c",
   "metadata": {},
   "outputs": [],
   "source": [
    "import numpy as np\n",
    "import matplotlib.pyplot as plt\n",
    "#plt.style.use(['science', 'notebook', 'dark background'])"
   ]
  },
  {
   "cell_type": "markdown",
   "id": "2543d20c",
   "metadata": {},
   "source": [
    "Create an array of equally spaced values"
   ]
  },
  {
   "cell_type": "markdown",
   "id": "dcfec1fa",
   "metadata": {},
   "source": [
    "* `arange`\n",
    "* `linspace`"
   ]
  },
  {
   "cell_type": "code",
   "execution_count": 3,
   "id": "6f1e87bb",
   "metadata": {},
   "outputs": [
    {
     "data": {
      "text/plain": [
       "array([0, 1, 2, 3, 4, 5, 6, 7, 8, 9])"
      ]
     },
     "execution_count": 3,
     "metadata": {},
     "output_type": "execute_result"
    }
   ],
   "source": [
    "x = np.arange(0,10,1)\n",
    "x"
   ]
  },
  {
   "cell_type": "code",
   "execution_count": 4,
   "id": "ade1ddcf",
   "metadata": {},
   "outputs": [
    {
     "data": {
      "text/plain": [
       "array([0.        , 0.05263158, 0.10526316, 0.15789474, 0.21052632,\n",
       "       0.26315789, 0.31578947, 0.36842105, 0.42105263, 0.47368421,\n",
       "       0.52631579, 0.57894737, 0.63157895, 0.68421053, 0.73684211,\n",
       "       0.78947368, 0.84210526, 0.89473684, 0.94736842, 1.        ])"
      ]
     },
     "execution_count": 4,
     "metadata": {},
     "output_type": "execute_result"
    }
   ],
   "source": [
    "x = np.linspace(0,1,20)\n",
    "x"
   ]
  },
  {
   "cell_type": "markdown",
   "id": "a554d48f",
   "metadata": {},
   "source": [
    "Can then define a 1D function $f(x)=...$"
   ]
  },
  {
   "cell_type": "code",
   "execution_count": 5,
   "id": "a71d7118",
   "metadata": {},
   "outputs": [
    {
     "data": {
      "text/plain": [
       "array([ 0.        ,  0.00139155,  0.00962581,  0.02492992,  0.03814029,\n",
       "        0.03380812, -0.00162562, -0.07009031, -0.15542392, -0.22430965,\n",
       "       -0.23604498, -0.158841  ,  0.01300324,  0.24824312,  0.48018016,\n",
       "        0.62275115,  0.59814502,  0.36783848, -0.0438762 , -0.54402111])"
      ]
     },
     "execution_count": 5,
     "metadata": {},
     "output_type": "execute_result"
    }
   ],
   "source": [
    "f = x**2*np.sin(x*10)\n",
    "f"
   ]
  },
  {
   "cell_type": "code",
   "execution_count": 7,
   "id": "7020fb4f",
   "metadata": {},
   "outputs": [
    {
     "data": {
      "image/png": "[encoded data removed]",
      "text/plain": [
       "<Figure size 720x360 with 1 Axes>"
      ]
     },
     "metadata": {
      "needs_background": "light"
     },
     "output_type": "display_data"
    }
   ],
   "source": [
    "plt.figure(figsize=(10,5))\n",
    "plt.plot(x,f)\n",
    "plt.show()"
   ]
  },
  {
   "cell_type": "markdown",
   "id": "8ea86736",
   "metadata": {},
   "source": [
    "How we do this in 2 dimensions?"
   ]
  },
  {
   "cell_type": "markdown",
   "id": "a28f34de",
   "metadata": {},
   "source": [
    "## Meshgrid ##"
   ]
  },
  {
   "cell_type": "markdown",
   "id": "12e80f0c",
   "metadata": {},
   "source": [
    "The `np.meshgrid` function is used primarly for\n",
    "* Creating/Plotting 2D functions $f(x,y)$\n",
    "* Generating combinations of 2 or more numbers\n",
    "\n",
    "**Example:** How you might think to create 2D function $f(x,y)$"
   ]
  },
  {
   "cell_type": "code",
   "execution_count": 8,
   "id": "78a007c7",
   "metadata": {},
   "outputs": [],
   "source": [
    "x = np.arange(3)\n",
    "y = np.arange(3)"
   ]
  },
  {
   "cell_type": "code",
   "execution_count": 9,
   "id": "3823a9a3",
   "metadata": {},
   "outputs": [
    {
     "data": {
      "text/plain": [
       "array([0, 1, 2])"
      ]
     },
     "execution_count": 9,
     "metadata": {},
     "output_type": "execute_result"
    }
   ],
   "source": [
    "x"
   ]
  },
  {
   "cell_type": "code",
   "execution_count": 10,
   "id": "5bea408b",
   "metadata": {},
   "outputs": [
    {
     "data": {
      "text/plain": [
       "array([0, 1, 2])"
      ]
     },
     "execution_count": 10,
     "metadata": {},
     "output_type": "execute_result"
    }
   ],
   "source": [
    "y"
   ]
  },
  {
   "cell_type": "markdown",
   "id": "39450db9",
   "metadata": {},
   "source": [
    "Generating a meshgrid:"
   ]
  },
  {
   "cell_type": "code",
   "execution_count": 11,
   "id": "2c49c094",
   "metadata": {},
   "outputs": [],
   "source": [
    "xv, yv = np.meshgrid(x,y)"
   ]
  },
  {
   "cell_type": "code",
   "execution_count": 12,
   "id": "d1010c88",
   "metadata": {},
   "outputs": [
    {
     "data": {
      "text/plain": [
       "array([[0, 1, 2],\n",
       "       [0, 1, 2],\n",
       "       [0, 1, 2]])"
      ]
     },
     "execution_count": 12,
     "metadata": {},
     "output_type": "execute_result"
    }
   ],
   "source": [
    "xv"
   ]
  },
  {
   "cell_type": "code",
   "execution_count": 13,
   "id": "84a00476",
   "metadata": {},
   "outputs": [
    {
     "data": {
      "text/plain": [
       "array([[0, 0, 0],\n",
       "       [1, 1, 1],\n",
       "       [2, 2, 2]])"
      ]
     },
     "execution_count": 13,
     "metadata": {},
     "output_type": "execute_result"
    }
   ],
   "source": [
    "yv"
   ]
  },
  {
   "cell_type": "markdown",
   "id": "f9eeae67",
   "metadata": {},
   "source": [
    "This arrays `xv` and `yv`, each separately give the x and y coordinates on a 2D grid. You can do normal numpy operations on these arrays:"
   ]
  },
  {
   "cell_type": "code",
   "execution_count": 14,
   "id": "1b260e51",
   "metadata": {},
   "outputs": [
    {
     "data": {
      "text/plain": [
       "array([[0, 1, 4],\n",
       "       [1, 2, 5],\n",
       "       [4, 5, 8]], dtype=int32)"
      ]
     },
     "execution_count": 14,
     "metadata": {},
     "output_type": "execute_result"
    }
   ],
   "source": [
    "xv**2 + yv**2"
   ]
  },
  {
   "cell_type": "markdown",
   "id": "bfa038d9",
   "metadata": {},
   "source": [
    "This can be done on a larger scale to plot surface plots of 2D functions"
   ]
  },
  {
   "cell_type": "markdown",
   "id": "b6ed3371",
   "metadata": {},
   "source": [
    "* <font color=yellow> Generate functions $f(x,y) = e^{-(x^2+y^2)}$ for $-2\\le x\\le 2$ and $-1\\le y\\le 1$ </font>"
   ]
  },
  {
   "cell_type": "code",
   "execution_count": 15,
   "id": "5e30a8c5",
   "metadata": {},
   "outputs": [],
   "source": [
    "x = np.linspace(-2,2,100)\n",
    "y = np.linspace(-1,1,100)\n",
    "xv, yv = np.meshgrid(x, y)\n",
    "#f = np.exp(-xv**2-yv**2)"
   ]
  },
  {
   "cell_type": "code",
   "execution_count": 16,
   "id": "dcdc6075",
   "metadata": {},
   "outputs": [
    {
     "data": {
      "text/plain": [
       "array([[-2.        , -1.95959596, -1.91919192, ...,  1.91919192,\n",
       "         1.95959596,  2.        ],\n",
       "       [-2.        , -1.95959596, -1.91919192, ...,  1.91919192,\n",
       "         1.95959596,  2.        ],\n",
       "       [-2.        , -1.95959596, -1.91919192, ...,  1.91919192,\n",
       "         1.95959596,  2.        ],\n",
       "       ...,\n",
       "       [-2.        , -1.95959596, -1.91919192, ...,  1.91919192,\n",
       "         1.95959596,  2.        ],\n",
       "       [-2.        , -1.95959596, -1.91919192, ...,  1.91919192,\n",
       "         1.95959596,  2.        ],\n",
       "       [-2.        , -1.95959596, -1.91919192, ...,  1.91919192,\n",
       "         1.95959596,  2.        ]])"
      ]
     },
     "execution_count": 16,
     "metadata": {},
     "output_type": "execute_result"
    }
   ],
   "source": [
    "xv"
   ]
  },
  {
   "cell_type": "code",
   "execution_count": 18,
   "id": "e75913a8",
   "metadata": {},
   "outputs": [
    {
     "data": {
      "text/plain": [
       "array([[-1.        , -1.        , -1.        , ..., -1.        ,\n",
       "        -1.        , -1.        ],\n",
       "       [-0.97979798, -0.97979798, -0.97979798, ..., -0.97979798,\n",
       "        -0.97979798, -0.97979798],\n",
       "       [-0.95959596, -0.95959596, -0.95959596, ..., -0.95959596,\n",
       "        -0.95959596, -0.95959596],\n",
       "       ...,\n",
       "       [ 0.95959596,  0.95959596,  0.95959596, ...,  0.95959596,\n",
       "         0.95959596,  0.95959596],\n",
       "       [ 0.97979798,  0.97979798,  0.97979798, ...,  0.97979798,\n",
       "         0.97979798,  0.97979798],\n",
       "       [ 1.        ,  1.        ,  1.        , ...,  1.        ,\n",
       "         1.        ,  1.        ]])"
      ]
     },
     "execution_count": 18,
     "metadata": {},
     "output_type": "execute_result"
    }
   ],
   "source": [
    "yv"
   ]
  },
  {
   "cell_type": "code",
   "execution_count": 19,
   "id": "90cfcf8b",
   "metadata": {},
   "outputs": [],
   "source": [
    "f = np.exp(-xv**2-yv**2)"
   ]
  },
  {
   "cell_type": "code",
   "execution_count": 24,
   "id": "be00e579",
   "metadata": {},
   "outputs": [
    {
     "data": {
      "text/plain": [
       "array([[0.00673795, 0.00790692, 0.00924847, ..., 0.00924847, 0.00790692,\n",
       "        0.00673795],\n",
       "       [0.0070129 , 0.00822958, 0.00962586, ..., 0.00962586, 0.00822958,\n",
       "        0.0070129 ],\n",
       "       [0.00729312, 0.00855841, 0.01001049, ..., 0.01001049, 0.00855841,\n",
       "        0.00729312],\n",
       "       ...,\n",
       "       [0.00729312, 0.00855841, 0.01001049, ..., 0.01001049, 0.00855841,\n",
       "        0.00729312],\n",
       "       [0.0070129 , 0.00822958, 0.00962586, ..., 0.00962586, 0.00822958,\n",
       "        0.0070129 ],\n",
       "       [0.00673795, 0.00790692, 0.00924847, ..., 0.00924847, 0.00790692,\n",
       "        0.00673795]])"
      ]
     },
     "execution_count": 24,
     "metadata": {},
     "output_type": "execute_result"
    }
   ],
   "source": [
    "f"
   ]
  },
  {
   "cell_type": "markdown",
   "id": "be66ad27",
   "metadata": {},
   "source": [
    "Note: `pcolormesh` is tipically the preferable function for 2D plotting, as opposed to `imshow` or `pcolor`, which take longer."
   ]
  },
  {
   "cell_type": "code",
   "execution_count": 23,
   "id": "85ac0b30",
   "metadata": {
    "scrolled": true
   },
   "outputs": [
    {
     "name": "stderr",
     "output_type": "stream",
     "text": [
      "<ipython-input-23-cef01ff67653>:2: MatplotlibDeprecationWarning: shading='flat' when X and Y have the same dimensions as C is deprecated since 3.3.  Either specify the corners of the quadrilaterals with X and Y, or pass shading='auto', 'nearest' or 'gouraud', or set rcParams['pcolor.shading'].  This will become an error two minor releases later.\n",
      "  plt.pcolormesh(xv, yv, f)\n"
     ]
    },
    {
     "data": {
      "image/png": "[encoded data removed]",
      "text/plain": [
       "<Figure size 720x288 with 2 Axes>"
      ]
     },
     "metadata": {
      "needs_background": "light"
     },
     "output_type": "display_data"
    }
   ],
   "source": [
    "plt.figure(figsize=(10,4))\n",
    "plt.pcolormesh(xv, yv, f)\n",
    "plt.colorbar()\n",
    "plt.show()"
   ]
  },
  {
   "cell_type": "markdown",
   "id": "7632212d",
   "metadata": {},
   "source": [
    "* <font color=yellow> Create a circular mask $f(x,y) =\n",
    "    \\begin{cases}\n",
    "        1 & x^2+y^2 < 1 \\\\\n",
    "        0 & x^2+y^2\\ge 1\n",
    "    \\end{cases}$ \n",
    "   for $-5\\le x\\le 5$ and $-5\\le y\\le 5$\n",
    "  </font>"
   ]
  },
  {
   "cell_type": "code",
   "execution_count": 25,
   "id": "c12550f0",
   "metadata": {},
   "outputs": [],
   "source": [
    "x = y = np.linspace(-5,5,500)\n",
    "xv, yv = np.meshgrid(x, y)\n",
    "f = (xv**2 + yv**2 < 1).astype(float)"
   ]
  },
  {
   "cell_type": "code",
   "execution_count": 29,
   "id": "51c546bd",
   "metadata": {},
   "outputs": [
    {
     "name": "stderr",
     "output_type": "stream",
     "text": [
      "<ipython-input-29-d3511da71aeb>:2: MatplotlibDeprecationWarning: shading='flat' when X and Y have the same dimensions as C is deprecated since 3.3.  Either specify the corners of the quadrilaterals with X and Y, or pass shading='auto', 'nearest' or 'gouraud', or set rcParams['pcolor.shading'].  This will become an error two minor releases later.\n",
      "  plt.pcolormesh(xv, yv, f)\n"
     ]
    },
    {
     "data": {
      "image/png": "[encoded data removed]",
      "text/plain": [
       "<Figure size 504x396 with 2 Axes>"
      ]
     },
     "metadata": {
      "needs_background": "light"
     },
     "output_type": "display_data"
    }
   ],
   "source": [
    "plt.figure(figsize=(7,5.5))\n",
    "plt.pcolormesh(xv, yv, f)\n",
    "plt.colorbar()\n",
    "plt.show()"
   ]
  },
  {
   "cell_type": "markdown",
   "id": "6b7f6d7d",
   "metadata": {},
   "source": [
    "Can build 3 dimensional meshgrids as well:"
   ]
  },
  {
   "cell_type": "code",
   "execution_count": 30,
   "id": "a6bf3353",
   "metadata": {},
   "outputs": [],
   "source": [
    "xv, yv, zv = np.meshgrid(x,x,x)"
   ]
  }
 ],
 "metadata": {
  "kernelspec": {
   "display_name": "Python 3",
   "language": "python",
   "name": "python3"
  },
  "language_info": {
   "codemirror_mode": {
    "name": "ipython",
    "version": 3
   },
   "file_extension": ".py",
   "mimetype": "text/x-python",
   "name": "python",
   "nbconvert_exporter": "python",
   "pygments_lexer": "ipython3",
   "version": "3.8.8"
  }
 },
 "nbformat": 4,
 "nbformat_minor": 5
}
